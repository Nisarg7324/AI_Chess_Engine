{
  "nbformat": 4,
  "nbformat_minor": 0,
  "metadata": {
    "colab": {
      "name": "AI-chess-engine.ipynb",
      "provenance": [],
      "collapsed_sections": [],
      "include_colab_link": true
    },
    "kernelspec": {
      "name": "python3",
      "display_name": "Python 3"
    }
  },
  "cells": [
    {
      "cell_type": "markdown",
      "metadata": {
        "id": "view-in-github",
        "colab_type": "text"
      },
      "source": [
        "<a href=\"https://colab.research.google.com/github/Nisarg7324/AI_Chess_Engine/blob/main/AI_chess_engine.ipynb\" target=\"_parent\"><img src=\"https://colab.research.google.com/assets/colab-badge.svg\" alt=\"Open In Colab\"/></a>"
      ]
    },
    {
      "cell_type": "markdown",
      "metadata": {
        "id": "0GLrsNkxgSrE"
      },
      "source": [
        "#AI Chess Engine ♟️\n"
      ]
    },
    {
      "cell_type": "markdown",
      "metadata": {
        "id": "5U2BBi4RT8tL"
      },
      "source": [
        "**libraries**\n",
        "\n",
        "---"
      ]
    },
    {
      "cell_type": "code",
      "metadata": {
        "id": "dsacAJ-5gkN0",
        "colab": {
          "base_uri": "https://localhost:8080/"
        },
        "outputId": "1fd46149-e043-4243-fb9a-ada24f823573"
      },
      "source": [
        "!pip3 install python-chess\n",
        "!pip3 install cairosvg"
      ],
      "execution_count": null,
      "outputs": [
        {
          "output_type": "stream",
          "text": [
            "Requirement already satisfied: python-chess in /usr/local/lib/python3.7/dist-packages (0.23.11)\n",
            "Requirement already satisfied: cairosvg in /usr/local/lib/python3.7/dist-packages (2.5.2)\n",
            "Requirement already satisfied: tinycss2 in /usr/local/lib/python3.7/dist-packages (from cairosvg) (1.1.0)\n",
            "Requirement already satisfied: cairocffi in /usr/local/lib/python3.7/dist-packages (from cairosvg) (1.2.0)\n",
            "Requirement already satisfied: cssselect2 in /usr/local/lib/python3.7/dist-packages (from cairosvg) (0.4.1)\n",
            "Requirement already satisfied: pillow in /usr/local/lib/python3.7/dist-packages (from cairosvg) (7.1.2)\n",
            "Requirement already satisfied: defusedxml in /usr/local/lib/python3.7/dist-packages (from cairosvg) (0.7.1)\n",
            "Requirement already satisfied: webencodings>=0.4 in /usr/local/lib/python3.7/dist-packages (from tinycss2->cairosvg) (0.5.1)\n",
            "Requirement already satisfied: cffi>=1.1.0 in /usr/local/lib/python3.7/dist-packages (from cairocffi->cairosvg) (1.14.5)\n",
            "Requirement already satisfied: pycparser in /usr/local/lib/python3.7/dist-packages (from cffi>=1.1.0->cairocffi->cairosvg) (2.20)\n"
          ],
          "name": "stdout"
        }
      ]
    },
    {
      "cell_type": "code",
      "metadata": {
        "id": "Nrv8bXmMgn6G"
      },
      "source": [
        "import chess\n",
        "import chess.svg\n",
        "import cairosvg\n",
        "from cairosvg import svg2png\n",
        "from collections import OrderedDict\n",
        "from operator import itemgetter \n",
        "import pandas as pd\n",
        "import numpy as np\n",
        "import tensorflow as tf\n",
        "from IPython.display import clear_output\n",
        "import cv2\n",
        "from google.colab.patches import cv2_imshow"
      ],
      "execution_count": null,
      "outputs": []
    },
    {
      "cell_type": "markdown",
      "metadata": {
        "id": "yveIUxzjUr2b"
      },
      "source": [
        "**tensorflow model**\n",
        "\n",
        "---"
      ]
    },
    {
      "cell_type": "code",
      "metadata": {
        "colab": {
          "base_uri": "https://localhost:8080/"
        },
        "id": "zltySP8_UrTA",
        "outputId": "f566503c-e408-4503-8844-ada43bf300d0"
      },
      "source": [
        "!git clone https://github.com/Nisarg7324/AI_Chess_Engine.git"
      ],
      "execution_count": null,
      "outputs": [
        {
          "output_type": "stream",
          "text": [
            "Cloning into 'AI_Chess_Engine'...\n",
            "remote: Enumerating objects: 22, done.\u001b[K\n",
            "remote: Counting objects: 100% (22/22), done.\u001b[K\n",
            "remote: Compressing objects: 100% (16/16), done.\u001b[K\n",
            "remote: Total 22 (delta 5), reused 15 (delta 3), pack-reused 0\u001b[K\n",
            "Unpacking objects: 100% (22/22), done.\n"
          ],
          "name": "stdout"
        }
      ]
    },
    {
      "cell_type": "markdown",
      "metadata": {
        "id": "loDX7U-wUwAQ"
      },
      "source": [
        "**model utils**\n",
        "\n",
        "---"
      ]
    },
    {
      "cell_type": "code",
      "metadata": {
        "id": "0IussDJEU6Nj"
      },
      "source": [
        "path_to_model = '/content/AI-chess-engine/latest-model'\n",
        "\n",
        "global model\n",
        "model = tf.saved_model.load(path_to_model)\n",
        "\n",
        "\n",
        "def predict(df_eval, imported_model):\n",
        "    \"\"\"Return array of predictions for each row of df_eval\n",
        "    \n",
        "    Keyword arguments:\n",
        "    df_eval -- pd.DataFrame\n",
        "    imported_model -- tf.saved_model \n",
        "    \"\"\"\n",
        "    col_names = df_eval.columns\n",
        "    dtypes = df_eval.dtypes\n",
        "    predictions = []\n",
        "    for row in df_eval.iterrows():\n",
        "      example = tf.train.Example()\n",
        "      for i in range(len(col_names)):\n",
        "        dtype = dtypes[i]\n",
        "        col_name = col_names[i]\n",
        "        value = row[1][col_name]\n",
        "        if dtype == 'object':\n",
        "          value = bytes(value, 'utf-8')\n",
        "          example.features.feature[col_name].bytes_list.value.extend([value])\n",
        "        elif dtype == 'float':\n",
        "          example.features.feature[col_name].float_list.value.extend([value])\n",
        "        elif dtype == 'int':\n",
        "          example.features.feature[col_name].int64_list.value.extend([value])\n",
        "      predictions.append(imported_model.signatures['predict'](examples = tf.constant([example.SerializeToString()])))\n",
        "    return predictions\n",
        "\n",
        "\n",
        "def get_board_features(board):\n",
        "    \"\"\"Return array of features for a board\n",
        "    \n",
        "    Keyword arguments:\n",
        "    board -- chess.Board()\n",
        "    \"\"\"\n",
        "    board_features = []\n",
        "    for square in chess.SQUARES:\n",
        "      board_features.append(str(board.piece_at(square)))\n",
        "    return board_features\n",
        "\n",
        "\n",
        "def get_move_features(move):\n",
        "    \"\"\"Return 2 arrays of features for a move\n",
        "    \n",
        "    Keyword arguments:\n",
        "    move -- chess.Move\n",
        "    \"\"\"\n",
        "    from_ = np.zeros(64)\n",
        "    to_ = np.zeros(64)\n",
        "    from_[move.from_square] = 1\n",
        "    to_[move.to_square] = 1\n",
        "    return from_, to_\n",
        "\n",
        "\n",
        "def get_possible_moves_data(current_board):\n",
        "    \"\"\"Return pd.DataFrame of all possible moves used for predictions\n",
        "    \n",
        "    Keyword arguments:\n",
        "    current_board -- chess.Board()\n",
        "    \"\"\"\n",
        "    data = []\n",
        "    moves = list(current_board.legal_moves)\n",
        "    for move in moves:\n",
        "      from_square, to_square = get_move_features(move)\n",
        "      row = np.concatenate((get_board_features(current_board), from_square, to_square))\n",
        "      data.append(row)\n",
        "    \n",
        "    board_feature_names = chess.SQUARE_NAMES\n",
        "    move_from_feature_names = ['from_' + square for square in chess.SQUARE_NAMES]\n",
        "    move_to_feature_names = ['to_' + square for square in chess.SQUARE_NAMES]\n",
        "    \n",
        "    columns = board_feature_names + move_from_feature_names + move_to_feature_names\n",
        "    \n",
        "    df = pd.DataFrame(data = data, columns = columns)\n",
        "\n",
        "    for column in move_from_feature_names:\n",
        "      df[column] = df[column].astype(float)\n",
        "    for column in move_to_feature_names:\n",
        "      df[column] = df[column].astype(float)\n",
        "    return df\n",
        "\n",
        "\n",
        "def find_best_moves(current_board, model, proportion = 0.5):\n",
        "    \"\"\"Return array of the best chess.Move\n",
        "    \n",
        "    Keyword arguments:\n",
        "    current_board -- chess.Board()\n",
        "    model -- tf.saved_model\n",
        "    proportion -- proportion of best moves returned\n",
        "    \"\"\"\n",
        "    moves = list(current_board.legal_moves)\n",
        "    df_eval = get_possible_moves_data(current_board)\n",
        "    predictions = predict(df_eval, model)\n",
        "    good_move_probas = []\n",
        "    \n",
        "    for prediction in predictions:\n",
        "      proto_tensor = tf.make_tensor_proto(prediction['probabilities'])\n",
        "      proba = tf.make_ndarray(proto_tensor)[0][1]\n",
        "      good_move_probas.append(proba)\n",
        "    \n",
        "    dict_ = dict(zip(moves, good_move_probas))\n",
        "    dict_ = OrderedDict(sorted(dict_.items(), key = itemgetter(1), reverse = True))\n",
        "    \n",
        "    best_moves = list(dict_.keys())\n",
        " \n",
        "    return best_moves[0:int(len(best_moves)*proportion)]"
      ],
      "execution_count": null,
      "outputs": []
    },
    {
      "cell_type": "markdown",
      "metadata": {
        "id": "dyb46NIAUN9I"
      },
      "source": [
        "**minimax**\n",
        "\n",
        "---"
      ]
    },
    {
      "cell_type": "code",
      "metadata": {
        "id": "inDa8N70gO6I"
      },
      "source": [
        "pawn_white_eval = np.array([[0.0, 0.0, 0.0, 0.0, 0.0, 0.0, 0.0, 0.0],\n",
        "                            [5.0, 5.0, 5.0, 5.0, 5.0, 5.0, 5.0, 5.0],\n",
        "                            [1.0, 1.0, 2.0, 3.0, 3.0, 2.0, 1.0, 1.0],\n",
        "                            [0.5, 0.5, 1.0, 2.5, 2.5, 1.0, 0.5, 0.5],\n",
        "                            [0.0, 0.0, 0.0, 2.0, 2.0, 0.0, 0.0, 0.0],\n",
        "                            [0.5, -0.5, -1.0, 0.0, 0.0, -1.0, -0.5, 0.5],\n",
        "                            [0.5, 1.0, 1.0, -2.0, -2.0, 1.0, 1.0, 0.5],\n",
        "                            [0.0, 0.0, 0.0, 0.0, 0.0, 0.0, 0.0, 0.0]], np.float)\n",
        "\n",
        "pawn_black_eval = pawn_white_eval[::-1]\n",
        "\n",
        "\n",
        "knight_white_eval = np.array([[-5.0, -4.0, -3.0, -3.0, -3.0, -3.0, -4.0, -5.0],\n",
        "                              [-4.0, -2.0, 0.0, 0.0, 0.0, 0.0, -2.0, -4.0],\n",
        "                              [-3.0, 0.0, 1.0, 1.5, 1.5, 1.0, 0.0, -3.0],\n",
        "                              [-3.0, 0.5, 1.5, 2.0, 2.0, 1.5, 0.5, -3.0],\n",
        "                              [-3.0, 0.0, 1.5, 2.0, 2.0, 1.5, 0.0, -3.0],\n",
        "                              [-3.0, 0.5, 1.0, 1.5, 1.5, 1.0, 0.5, -3.0],\n",
        "                              [-4.0, -2.0, 0.0, 0.5, 0.5, 0.0, -2.0, -4.0],\n",
        "                              [-5.0, -4.0, -3.0, -3.0, -3.0, -3.0, -4.0, -5.0]], np.float)\n",
        "\n",
        "knight_black_eval = knight_white_eval[::-1]\n",
        "\n",
        "\n",
        "bishop_white_eval = np.array([[-2.0, -1.0, -1.0, -1.0, -1.0, -1.0, -1.0, -2.0],\n",
        "                              [-1.0, 0.0, 0.0, 0.0, 0.0, 0.0, 0.0, -1.0],\n",
        "                              [-1.0, 0.0, 0.5, 1.0, 1.0, 0.5, 0.0, -1.0],\n",
        "                              [-1.0, 0.5, 0.5, 1.0, 1.0, 0.5, 0.5, -1.0],\n",
        "                              [-1.0, 0.0, 1.0, 1.0, 1.0, 1.0, 0.0, -1.0],\n",
        "                              [-1.0, 1.0, 1.0, 1.0, 1.0, 1.0, 1.0, -1.0],\n",
        "                              [-1.0, 0.5, 0.0, 0.0, 0.0, 0.0, 0.5, -1.0],\n",
        "                              [-2.0, -1.0, -1.0, -1.0, -1.0, -1.0, -1.0, -2.0]], np.float)\n",
        "\n",
        "bishop_black_eval = bishop_white_eval[::-1]\n",
        "\n",
        "\n",
        "rook_white_eval = np.array([[0.0, 0.0, 0.0, 0.0, 0.0,  0.0, 0.0, 0.0],\n",
        "                            [0.5, 1.0, 1.0, 1.0, 1.0, 1.0, 1.0, 0.5],\n",
        "                            [-0.5, 0.0, 0.0, 0.0, 0.0, 0.0, 0.0, -0.5],\n",
        "                            [-0.5, 0.0, 0.0, 0.0, 0.0, 0.0, 0.0, -0.5],\n",
        "                            [-0.5, 0.0, 0.0, 0.0, 0.0, 0.0, 0.0, -0.5],\n",
        "                            [-0.5, 0.0, 0.0, 0.0, 0.0, 0.0, 0.0, -0.5],\n",
        "                            [-0.5, 0.0, 0.0, 0.0, 0.0, 0.0, 0.0, -0.5],\n",
        "                            [ 0.0, 0.0, 0.0, 0.5, 0.5, 0.0, 0.0, 0.0]], np.float)\n",
        "\n",
        "rook_black_eval = rook_white_eval[::-1]\n",
        "\n",
        "\n",
        "queen_white_eval = np.array([[-2.0, -1.0, -1.0, -0.5, -0.5, -1.0, -1.0, -2.0],\n",
        "                             [-1.0, 0.0, 0.0, 0.0, 0.0, 0.0, 0.0, -1.0],\n",
        "                             [-1.0, 0.0, 0.5, 0.5, 0.5, 0.5, 0.0, -1.0],\n",
        "                             [-0.5, 0.0, 0.5, 0.5, 0.5, 0.5, 0.0, -0.5],\n",
        "                             [0.0, 0.0, 0.5, 0.5, 0.5, 0.5, 0.0, -0.5],\n",
        "                             [-1.0, 0.5, 0.5, 0.5, 0.5, 0.5, 0.0, -1.0],\n",
        "                             [-1.0, 0.0, 0.5, 0.0, 0.0, 0.0, 0.0, -1.0],\n",
        "                             [-2.0, -1.0, -1.0, -0.5, -0.5, -1.0, -1.0, -2.0]], np.float)\n",
        "\n",
        "queen_black_eval = queen_white_eval[::-1]\n",
        "\n",
        "\n",
        "king_white_eval = np.array([[-3.0, -4.0, -4.0, -5.0, -5.0, -4.0, -4.0, -3.0],\n",
        "                            [-3.0, -4.0, -4.0, -5.0, -5.0, -4.0, -4.0, -3.0],\n",
        "                            [-3.0, -4.0, -4.0, -5.0, -5.0, -4.0, -4.0, -3.0],\n",
        "                            [-3.0, -4.0, -4.0, -5.0, -5.0, -4.0, -4.0, -3.0],\n",
        "                            [-2.0, -3.0, -3.0, -4.0, -4.0, -3.0, -3.0, -2.0],\n",
        "                            [-1.0, -2.0, -2.0, -2.0, -2.0, -2.0, -2.0, -1.0],\n",
        "                            [2.0, 2.0, 0.0, 0.0, 0.0, 0.0, 2.0, 2.0],\n",
        "                            [2.0, 3.0, 1.0, 0.0, 0.0, 1.0, 3.0, 2.0]], np.float)\n",
        "\n",
        "king_black_eval = king_white_eval[::-1]\n",
        "\n",
        "\n",
        "def square_to_coord(square):\n",
        "  \"\"\"Convert square to coordinates\n",
        "  \"\"\"\n",
        "  return {0:(7,0), 1:(7,1), 2:(7,2), 3:(7,3), 4:(7,4), 5:(7,5), 6:(7,6), 7:(7,7),\n",
        "          8:(6,0), 9:(6,1), 10:(6,2), 11:(6,3), 12:(6,4), 13:(6,5), 14:(6,6), 15:(6,7), \n",
        "          16:(5,0), 17:(5,1), 18:(5,2), 19:(5,3), 20:(5,4), 21:(5,5), 22:(5,6), 23:(5,7),\n",
        "          24:(4,0), 25:(4,1), 26:(4,2), 27:(4,3), 28:(4,4), 29:(4,5), 30:(4,6), 31:(4,7),\n",
        "          32:(3,0), 33:(3,1), 34:(3,2), 35:(3,3), 36:(3,4), 37:(3,5), 38:(3,6), 39:(3,7),\n",
        "          40:(2,0), 41:(2,1), 42:(2,2), 43:(2,3), 44:(2,4), 45:(2,5), 46:(2,6), 47:(2,7),\n",
        "          48:(1,0), 49:(1,1), 50:(1,2), 51:(1,3), 52:(1,4), 53:(1,5), 54:(1,6), 55:(1,7),\n",
        "          56:(0,0), 57:(0,1), 58:(0,2), 59:(0,3), 60:(0,4), 61:(0,5), 62:(0,6), 63:(0,7)}[square]\n",
        "\n",
        "\n",
        "def get_piece_value(piece, square):\n",
        "  \"\"\"Return the value of a piece\n",
        "  \"\"\"\n",
        "  x, y = square_to_coord(square)\n",
        "  \n",
        "  if(ai_white):\n",
        "    sign_white = -1\n",
        "    sign_black = 1\n",
        "  else:\n",
        "    sign_white = 1\n",
        "    sign_black = -1\n",
        "\n",
        "  if(piece == 'None'):\n",
        "    return 0\n",
        "  elif(piece == 'P'):\n",
        "    return sign_white * (10 + pawn_white_eval[x][y])\n",
        "  elif(piece == 'N'):\n",
        "    return sign_white * (30 + knight_white_eval[x][y])\n",
        "  elif(piece == 'B'):\n",
        "    return sign_white * (30 + bishop_white_eval[x][y])\n",
        "  elif(piece == 'R'):\n",
        "    return sign_white * (50 + rook_white_eval[x][y])\n",
        "  elif(piece == 'Q'):\n",
        "    return sign_white * (90 + queen_white_eval[x][y])\n",
        "  elif(piece == 'K'):\n",
        "    return sign_white * (900 + king_white_eval[x][y])\n",
        "  elif(piece == 'p'):\n",
        "    return sign_black * (10 + pawn_black_eval[x][y])\n",
        "  elif(piece == 'n'):\n",
        "    return sign_black * (30 + knight_black_eval[x][y])\n",
        "  elif(piece == 'b'):\n",
        "    return sign_black * (30 + bishop_black_eval[x][y])\n",
        "  elif(piece == 'r'):\n",
        "    return sign_black * (50 + rook_black_eval[x][y])\n",
        "  elif(piece == 'q'):\n",
        "    return sign_black * (90 + queen_black_eval[x][y])\n",
        "  elif(piece == 'k'):\n",
        "    return sign_black * (900 + king_black_eval[x][y])\n",
        "\n",
        "\n",
        "def evaluate_board(board):\n",
        "  \"\"\"Return the evaluation of a board\n",
        "  \"\"\"\n",
        "  evaluation = 0\n",
        "  for square in chess.SQUARES:\n",
        "    piece = str(board.piece_at(square))\n",
        "    evaluation = evaluation + get_piece_value(piece, square)\n",
        "  return evaluation\n",
        "\n",
        "\n",
        "def minimax(depth, board, alpha, beta, is_maximising_player):\n",
        "  \n",
        "  if(depth == 0):\n",
        "    return - evaluate_board(board)\n",
        "  elif(depth > 3):\n",
        "    legal_moves = find_best_moves(board, model, 0.75)\n",
        "  else:\n",
        "    legal_moves = list(board.legal_moves)\n",
        "\n",
        "  if(is_maximising_player):\n",
        "    best_move = -9999\n",
        "    for move in legal_moves:\n",
        "      board.push(move)\n",
        "      best_move = max(best_move, minimax(depth-1, board, alpha, beta, not is_maximising_player))\n",
        "      board.pop()\n",
        "      alpha = max(alpha, best_move)\n",
        "      if(beta <= alpha):\n",
        "        return best_move\n",
        "    return best_move\n",
        "  else:\n",
        "    best_move = 9999\n",
        "    for move in legal_moves:\n",
        "      board.push(move)\n",
        "      best_move = min(best_move, minimax(depth-1, board, alpha, beta, not is_maximising_player))\n",
        "      board.pop()\n",
        "      beta = min(beta, best_move)\n",
        "      if(beta <= alpha):\n",
        "        return best_move\n",
        "    return best_move\n",
        "\n",
        "\n",
        "def minimax_root(depth, board, is_maximising_player = True):\n",
        "  #only search the top 50% moves\n",
        "  legal_moves = find_best_moves(board, model)\n",
        "  best_move = -9999\n",
        "  best_move_found = None\n",
        "\n",
        "  for move in legal_moves:\n",
        "    board.push(move)\n",
        "    value = minimax(depth - 1, board, -10000, 10000, not is_maximising_player)\n",
        "    board.pop()\n",
        "    if(value >= best_move):\n",
        "      best_move = value\n",
        "      best_move_found = move\n",
        "\n",
        "  return best_move_found"
      ],
      "execution_count": null,
      "outputs": []
    },
    {
      "cell_type": "markdown",
      "metadata": {
        "id": "zg57ZibfUS2C"
      },
      "source": [
        "**game util**\n",
        "\n",
        "---"
      ]
    },
    {
      "cell_type": "code",
      "metadata": {
        "id": "GFvB8_SHg0V5"
      },
      "source": [
        "def draw_board(current_board):\n",
        "  \"\"\"Draw board\n",
        "\n",
        "   Keyword arguments:\n",
        "   current_board -- chess.Board()\n",
        "  \"\"\"\n",
        "  board_img = chess.svg.board(current_board, flipped = ai_white)\n",
        "  svg2png(bytestring=board_img,write_to='/content/board.png')\n",
        "  img = cv2.imread('/content/board.png', 1)\n",
        "  cv2_imshow(img)\n",
        "\n",
        "\n",
        "def can_checkmate(move, current_board):\n",
        "  \"\"\"Return True if a move can checkmate\n",
        "    \n",
        "  Keyword arguments:\n",
        "  move -- chess.Move\n",
        "  current_board -- chess.Board()\n",
        "  \"\"\"\n",
        "  fen = current_board.fen()\n",
        "  future_board = chess.Board(fen)\n",
        "  future_board.push(move)\n",
        "  return future_board.is_checkmate()\n",
        "\n",
        "\n",
        "def ai_play_turn(current_board):\n",
        "  \"\"\"Handdle the A.I's turn\n",
        "\n",
        "  Keyword arguments:\n",
        "  current_board -- chess.Board()\n",
        "  \"\"\"\n",
        "  clear_output()\n",
        "  draw_board(current_board)\n",
        "  print('\\n')\n",
        "  print(\"Thinking...\")\n",
        "  for move in current_board.legal_moves:\n",
        "    if(can_checkmate(move, current_board)):\n",
        "      current_board.push(move)\n",
        "      return\n",
        "\n",
        "  nb_moves = len(list(current_board.legal_moves))\n",
        "   \n",
        "  current_board.push(minimax_root(3, current_board))\n",
        "  return\n",
        "\n",
        "\n",
        "def human_play_turn(current_board):\n",
        "  \"\"\"Handle the human's turn\n",
        "\n",
        "  Keyword arguments:\n",
        "  current_board = chess.Board()\n",
        "  \"\"\"\n",
        "  clear_output()\n",
        "  draw_board(current_board)\n",
        "  print('\\n')\n",
        "  print('\\n')\n",
        "  print('number moves: ' + str(len(current_board.move_stack)))\n",
        "  move_uci = input('Enter your move: ')\n",
        "  \n",
        "  try: \n",
        "    move = chess.Move.from_uci(move_uci)\n",
        "  except:\n",
        "    return human_play_turn(current_board) \n",
        "  if(move not in current_board.legal_moves):\n",
        "    return human_play_turn(current_board)\n",
        "  current_board.push(move)\n",
        "  return\n",
        "\n",
        "\n",
        "def play_game(turn, current_board):\n",
        "  \"\"\"Play through the whole game\n",
        "    \n",
        "  Keyword arguments:\n",
        "  turn -- True for A.I plays first\n",
        "  current_board -- chess.Board()\n",
        "  \"\"\"\n",
        "  if(current_board.is_stalemate()):\n",
        "    clear_output()\n",
        "    print('Stalemate: both A.I and human win')\n",
        "    return\n",
        "  else:   \n",
        "    if(not turn):\n",
        "      if(not current_board.is_checkmate()):\n",
        "        human_play_turn(current_board)\n",
        "        return play_game(not turn, current_board)\n",
        "      else:\n",
        "        clear_output()\n",
        "        draw_board(current_board)\n",
        "        print('A.I wins')\n",
        "        return\n",
        "    else:\n",
        "      if(not current_board.is_checkmate()):\n",
        "        ai_play_turn(current_board)\n",
        "        return play_game(not turn, current_board)\n",
        "      else:\n",
        "        clear_output()\n",
        "        draw_board(current_board)\n",
        "        print('Human wins')\n",
        "        return\n",
        "\n",
        "\n",
        "def play():\n",
        "  \"\"\"Init and start the game\n",
        "  \"\"\"\n",
        "  global ai_white\n",
        "  ai_white = True\n",
        "  \n",
        "  board = chess.Board()\n",
        "  human_first = input('Care to start? [y/n]: ')\n",
        "  clear_output()\n",
        "  if(human_first == 'y'):\n",
        "    ai_white = False\n",
        "    return play_game(False, board)\n",
        "  else:\n",
        "    return play_game(True, board)"
      ],
      "execution_count": null,
      "outputs": []
    },
    {
      "cell_type": "markdown",
      "metadata": {
        "id": "Q6PdYgyZUayy"
      },
      "source": [
        "**play**\n",
        "\n",
        "---"
      ]
    },
    {
      "cell_type": "code",
      "metadata": {
        "id": "tIks0yXVpEw2",
        "colab": {
          "base_uri": "https://localhost:8080/",
          "height": 541
        },
        "outputId": "fb69ac2a-a2cc-4220-a3bb-ee9fdfe3c8ed"
      },
      "source": [
        "play()"
      ],
      "execution_count": null,
      "outputs": [
        {
          "output_type": "display_data",
          "data": {
            "image/png": "[encoded data removed]",
            "text/plain": [
              "<PIL.Image.Image image mode=RGB size=400x400 at 0x7F9672DE9250>"
            ]
          },
          "metadata": {
            "tags": []
          }
        },
        {
          "output_type": "stream",
          "text": [
            "\n",
            "\n",
            "\n",
            "\n",
            "number moves: 2\n"
          ],
          "name": "stdout"
        }
      ]
    }
  ]
}